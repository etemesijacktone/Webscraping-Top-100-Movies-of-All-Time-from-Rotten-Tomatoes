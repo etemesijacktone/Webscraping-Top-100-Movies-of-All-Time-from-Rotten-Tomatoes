{
 "cells": [
  {
   "cell_type": "markdown",
   "metadata": {},
   "source": [
    "###             Extracting Top 100 Movies of All Time From Rottentomatoes.com\n",
    "\n",
    "                                    by\n",
    "\n",
    "                                Jacktone Etemesi\n",
    "\n",
    "                                phone: +254708578181\n",
    "                             email: jacktoneetemesi1@gmail.com"
   ]
  },
  {
   "cell_type": "markdown",
   "metadata": {},
   "source": [
    "The aim of this project is to collect the following details on the top 100 movies of all time from www.rottentomatoes.com;\n",
    "\n",
    "    1. Movie_index - Refers to the rank of a given movie in the list.\n",
    "    2. Movie_name - Title of the movie\n",
    "    3. Rt_rating - Refers to ratings assigned to the movie by rotten tomatoes\n",
    "    4. Release_Year - Refers to the year the movie started showing\n",
    "    5. Critics_consesus - Refers to a unified opinion of viewers who criticized the movie\n",
    "    6. Cast - Actors who took part in the movie\n",
    "    7. Director - Refers to the individual ho directed the movie\n",
    "    8. Url - Refers to the link to the movie's view page.\n",
    "    \n",
    "Project will utilize the following data analysis Concepst:\n",
    "\n",
    "    - Web scraping using Beautifulsoup\n",
    "    - Database "
   ]
  },
  {
   "cell_type": "markdown",
   "metadata": {},
   "source": [
    "## Step 1: Scraping Data"
   ]
  },
  {
   "cell_type": "code",
   "execution_count": 1,
   "metadata": {},
   "outputs": [],
   "source": [
    "#Importing the relevant libraries needed to scrap and store data\n",
    "import requests\n",
    "from bs4 import BeautifulSoup,Comment\n",
    "import sqlite3"
   ]
  },
  {
   "cell_type": "code",
   "execution_count": 2,
   "metadata": {},
   "outputs": [
    {
     "data": {
      "text/plain": [
       "<sqlite3.Cursor at 0x1c21777ad50>"
      ]
     },
     "execution_count": 2,
     "metadata": {},
     "output_type": "execute_result"
    }
   ],
   "source": [
    "# creating a database to store our scrapped data\n",
    "conn=sqlite3.connect('movies.db')\n",
    "curs=conn.cursor()\n",
    "curs.execute('''CREATE TABLE IF NOT EXISTS topmovies (Movie_index INT,Movie_name VARCHAR,Rt_ratings INT,Release_year INT,Critics_consensus VAR,Cast VAR,Director VAR,Url VAR)''')"
   ]
  },
  {
   "cell_type": "code",
   "execution_count": 3,
   "metadata": {},
   "outputs": [
    {
     "name": "stdout",
     "output_type": "stream",
     "text": [
      "Successfully Scraped Data from Page 1\n",
      "Successfully Scraped Data from Page 2\n",
      "Successfully Scraped Data from Page 3\n",
      "Successfully Scraped Data from Page 4\n",
      "Successfully Scraped Data from Page 5\n"
     ]
    }
   ],
   "source": [
    "#Fetching urls containing details on the 100 movies\n",
    "base_url='https://editorial.rottentomatoes.com/guide/100-best-classic-movies/'\n",
    "for page_index in range(1,6,1):\n",
    "    if page_index==1:\n",
    "        url=base_url\n",
    "    else:\n",
    "        url=f'https://editorial.rottentomatoes.com/guide/100-best-classic-movies/{page_index}/'\n",
    " #Code to scrap data from the url loop above       \n",
    "    html=requests.get(url)\n",
    "    soup=BeautifulSoup(html.text,'lxml')\n",
    "    master_tree=soup.find_all('div',class_='row countdown-item')\n",
    "    for master in master_tree:\n",
    "        movie_index=int(master.find('div',class_='countdown-index').text[1:])\n",
    "        movie_name=master.find('div',class_='article_movie_title').find('a').text\n",
    "        rt_rating=int(master.find('div',class_='article_movie_title').find('span',class_='tMeterScore').text[:-1])\n",
    "        release_year=int(master.find('div',class_='article_movie_title').find('span',class_='subtle start-year').text.replace('(','').replace(')',''))\n",
    "        critics_consensus=master.find('div',class_='info critics-consensus').contents[1]\n",
    "        cast=master.find('div',class_='info cast').text.replace('Starring:','').strip()\n",
    "        director=master.find('div',class_='info director').find('a',class_=\"\").text\n",
    "        url=master.find('a',class_='article_movie_poster')['href']\n",
    "        # inserting the scraped data into our database\n",
    "        curs.execute('''INSERT INTO topmovies (Movie_index,Movie_name,Rt_ratings,Release_year,Critics_consensus,Cast,Director,Url) VALUES (?,?,?,?,?,?,?,?)''',(movie_index,movie_name,rt_rating,release_year,critics_consensus,cast,director,url))\n",
    "    if page_index<6:\n",
    "        print(f'Successfully Scraped Data from Page {page_index}')\n",
    "    conn.commit()\n",
    "    #print(movie_index,movie_name,rt_rating,release_year,critics_consensus,cast,director)\n",
    "\n",
    "\n"
   ]
  },
  {
   "cell_type": "markdown",
   "metadata": {},
   "source": [
    "## Step 2: EDA"
   ]
  },
  {
   "cell_type": "code",
   "execution_count": 4,
   "metadata": {},
   "outputs": [],
   "source": [
    "import numpy as np\n",
    "import pandas as pd"
   ]
  },
  {
   "cell_type": "code",
   "execution_count": 5,
   "metadata": {},
   "outputs": [],
   "source": [
    "df=pd.read_sql_query('SELECT * FROM topmovies',conn)\n",
    "df.drop_duplicates(inplace=True)"
   ]
  },
  {
   "cell_type": "code",
   "execution_count": 6,
   "metadata": {},
   "outputs": [
    {
     "data": {
      "text/html": [
       "<div>\n",
       "<style scoped>\n",
       "    .dataframe tbody tr th:only-of-type {\n",
       "        vertical-align: middle;\n",
       "    }\n",
       "\n",
       "    .dataframe tbody tr th {\n",
       "        vertical-align: top;\n",
       "    }\n",
       "\n",
       "    .dataframe thead th {\n",
       "        text-align: right;\n",
       "    }\n",
       "</style>\n",
       "<table border=\"1\" class=\"dataframe\">\n",
       "  <thead>\n",
       "    <tr style=\"text-align: right;\">\n",
       "      <th></th>\n",
       "      <th>Movie_index</th>\n",
       "      <th>Movie_name</th>\n",
       "      <th>Rt_ratings</th>\n",
       "      <th>Release_year</th>\n",
       "      <th>Critics_consensus</th>\n",
       "      <th>Cast</th>\n",
       "      <th>Director</th>\n",
       "      <th>Url</th>\n",
       "    </tr>\n",
       "  </thead>\n",
       "  <tbody>\n",
       "    <tr>\n",
       "      <th>0</th>\n",
       "      <td>100</td>\n",
       "      <td>The Bridge on the River Kwai</td>\n",
       "      <td>96</td>\n",
       "      <td>1957</td>\n",
       "      <td>This complex war epic asks hard questions, re...</td>\n",
       "      <td>William Holden, Alec Guinness, Sessue Hayakawa...</td>\n",
       "      <td>David Lean</td>\n",
       "      <td>https://www.rottentomatoes.com/m/bridge_on_the...</td>\n",
       "    </tr>\n",
       "    <tr>\n",
       "      <th>1</th>\n",
       "      <td>99</td>\n",
       "      <td>Paths of Glory</td>\n",
       "      <td>96</td>\n",
       "      <td>1957</td>\n",
       "      <td></td>\n",
       "      <td>Kirk Douglas, Ralph Meeker, Adolphe Menjou, Ge...</td>\n",
       "      <td>Stanley Kubrick</td>\n",
       "      <td>https://www.rottentomatoes.com/m/paths_of_glory</td>\n",
       "    </tr>\n",
       "    <tr>\n",
       "      <th>2</th>\n",
       "      <td>98</td>\n",
       "      <td>Rebel Without a Cause</td>\n",
       "      <td>93</td>\n",
       "      <td>1955</td>\n",
       "      <td></td>\n",
       "      <td>James Dean, Natalie Wood, Sal Mineo, Jim Backus</td>\n",
       "      <td>Nicholas Ray</td>\n",
       "      <td>https://www.rottentomatoes.com/m/rebel_without...</td>\n",
       "    </tr>\n",
       "    <tr>\n",
       "      <th>3</th>\n",
       "      <td>97</td>\n",
       "      <td>A Fistful of Dollars</td>\n",
       "      <td>96</td>\n",
       "      <td>1964</td>\n",
       "      <td>With Akira Kurosawa's</td>\n",
       "      <td>Clint Eastwood, Marianne Koch, Joe Edger, Wolf...</td>\n",
       "      <td>Sergio Leone</td>\n",
       "      <td>https://www.rottentomatoes.com/m/fistful_of_do...</td>\n",
       "    </tr>\n",
       "    <tr>\n",
       "      <th>4</th>\n",
       "      <td>96</td>\n",
       "      <td>The Birds</td>\n",
       "      <td>93</td>\n",
       "      <td>1963</td>\n",
       "      <td>Proving once again that build-up is the key t...</td>\n",
       "      <td>Rod Taylor, Tippi Hedren, Suzanne Pleshette, J...</td>\n",
       "      <td>Alfred Hitchcock</td>\n",
       "      <td>https://www.rottentomatoes.com/m/1002448-birds</td>\n",
       "    </tr>\n",
       "  </tbody>\n",
       "</table>\n",
       "</div>"
      ],
      "text/plain": [
       "   Movie_index                    Movie_name  Rt_ratings  Release_year  \\\n",
       "0          100  The Bridge on the River Kwai          96          1957   \n",
       "1           99                Paths of Glory          96          1957   \n",
       "2           98         Rebel Without a Cause          93          1955   \n",
       "3           97          A Fistful of Dollars          96          1964   \n",
       "4           96                     The Birds          93          1963   \n",
       "\n",
       "                                   Critics_consensus  \\\n",
       "0   This complex war epic asks hard questions, re...   \n",
       "1                                                      \n",
       "2                                                      \n",
       "3                             With Akira Kurosawa's    \n",
       "4   Proving once again that build-up is the key t...   \n",
       "\n",
       "                                                Cast          Director  \\\n",
       "0  William Holden, Alec Guinness, Sessue Hayakawa...        David Lean   \n",
       "1  Kirk Douglas, Ralph Meeker, Adolphe Menjou, Ge...   Stanley Kubrick   \n",
       "2    James Dean, Natalie Wood, Sal Mineo, Jim Backus      Nicholas Ray   \n",
       "3  Clint Eastwood, Marianne Koch, Joe Edger, Wolf...      Sergio Leone   \n",
       "4  Rod Taylor, Tippi Hedren, Suzanne Pleshette, J...  Alfred Hitchcock   \n",
       "\n",
       "                                                 Url  \n",
       "0  https://www.rottentomatoes.com/m/bridge_on_the...  \n",
       "1    https://www.rottentomatoes.com/m/paths_of_glory  \n",
       "2  https://www.rottentomatoes.com/m/rebel_without...  \n",
       "3  https://www.rottentomatoes.com/m/fistful_of_do...  \n",
       "4     https://www.rottentomatoes.com/m/1002448-birds  "
      ]
     },
     "execution_count": 6,
     "metadata": {},
     "output_type": "execute_result"
    }
   ],
   "source": [
    "df.head()"
   ]
  },
  {
   "cell_type": "markdown",
   "metadata": {},
   "source": [
    "The data has been successfully loaded into a data frame, ready for Cleaning and Analysis"
   ]
  }
 ],
 "metadata": {
  "kernelspec": {
   "display_name": "Python 3.9.7 ('base')",
   "language": "python",
   "name": "python3"
  },
  "language_info": {
   "codemirror_mode": {
    "name": "ipython",
    "version": 3
   },
   "file_extension": ".py",
   "mimetype": "text/x-python",
   "name": "python",
   "nbconvert_exporter": "python",
   "pygments_lexer": "ipython3",
   "version": "3.9.7"
  },
  "orig_nbformat": 4,
  "vscode": {
   "interpreter": {
    "hash": "491e8b6187b1dc1ce78e67287fb0e17f1d4cf233f16ab897d1449ebaecc2481f"
   }
  }
 },
 "nbformat": 4,
 "nbformat_minor": 2
}
